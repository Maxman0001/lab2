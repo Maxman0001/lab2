{
 "cells": [
  {
   "cell_type": "code",
   "execution_count": 2,
   "id": "787e584d",
   "metadata": {},
   "outputs": [],
   "source": [
    "import os"
   ]
  },
  {
   "cell_type": "code",
   "execution_count": null,
   "id": "ac52397c",
   "metadata": {},
   "outputs": [],
   "source": [
    "import polars as pl\n",
    "from pathlib import Path"
   ]
  },
  {
   "cell_type": "code",
   "execution_count": null,
   "id": "bffd02de",
   "metadata": {},
   "outputs": [
    {
     "data": {
      "text/html": [
       "<div><style>\n",
       ".dataframe > thead > tr,\n",
       ".dataframe > tbody > tr {\n",
       "  text-align: right;\n",
       "  white-space: pre-wrap;\n",
       "}\n",
       "</style>\n",
       "<small>shape: (5, 5)</small><table border=\"1\" class=\"dataframe\"><thead><tr><th>yearID</th><th>lgID</th><th>total_R</th><th>total_IPouts</th><th>ERA</th></tr><tr><td>i64</td><td>str</td><td>i64</td><td>i64</td><td>f64</td></tr></thead><tbody><tr><td>1962</td><td>&quot;NL&quot;</td><td>7278</td><td>43470</td><td>4.520497</td></tr><tr><td>1972</td><td>&quot;AL&quot;</td><td>6441</td><td>49961</td><td>3.480855</td></tr><tr><td>1955</td><td>&quot;AL&quot;</td><td>5491</td><td>33080</td><td>4.481771</td></tr><tr><td>1981</td><td>&quot;AL&quot;</td><td>6112</td><td>40379</td><td>4.086877</td></tr><tr><td>1957</td><td>&quot;AL&quot;</td><td>5210</td><td>33380</td><td>4.2142</td></tr></tbody></table></div>"
      ],
      "text/plain": [
       "shape: (5, 5)\n",
       "┌────────┬──────┬─────────┬──────────────┬──────────┐\n",
       "│ yearID ┆ lgID ┆ total_R ┆ total_IPouts ┆ ERA      │\n",
       "│ ---    ┆ ---  ┆ ---     ┆ ---          ┆ ---      │\n",
       "│ i64    ┆ str  ┆ i64     ┆ i64          ┆ f64      │\n",
       "╞════════╪══════╪═════════╪══════════════╪══════════╡\n",
       "│ 1962   ┆ NL   ┆ 7278    ┆ 43470        ┆ 4.520497 │\n",
       "│ 1972   ┆ AL   ┆ 6441    ┆ 49961        ┆ 3.480855 │\n",
       "│ 1955   ┆ AL   ┆ 5491    ┆ 33080        ┆ 4.481771 │\n",
       "│ 1981   ┆ AL   ┆ 6112    ┆ 40379        ┆ 4.086877 │\n",
       "│ 1957   ┆ AL   ┆ 5210    ┆ 33380        ┆ 4.2142   │\n",
       "└────────┴──────┴─────────┴──────────────┴──────────┘"
      ]
     },
     "execution_count": 4,
     "metadata": {},
     "output_type": "execute_result"
    }
   ],
   "source": [
    "DATA_DIR = Path(\"data/lahman_1871-2024_csv\")\n",
    "\n",
    "pitch = pl.read_csv(DATA_DIR / \"Pitching.csv\")\n",
    "\n",
    "# Filter for modern era\n",
    "pitch_modern = pitch.filter(pl.col(\"yearID\") >= 1946)\n",
    "\n",
    "# Aggregate runs + outs per year & league\n",
    "era_group = (\n",
    "    pitch_modern\n",
    "    .group_by([\"yearID\", \"lgID\"])\n",
    "    .agg([\n",
    "        pl.col(\"R\").sum().alias(\"total_R\"),\n",
    "        pl.col(\"IPouts\").sum().alias(\"total_IPouts\"),\n",
    "    ])\n",
    "    .with_columns(\n",
    "        (pl.col(\"total_R\") / pl.col(\"total_IPouts\") * 27).alias(\"ERA\")\n",
    "    )\n",
    ")\n",
    "\n",
    "era_group.head()"
   ]
  },
  {
   "cell_type": "code",
   "execution_count": 5,
   "id": "91afa95e",
   "metadata": {},
   "outputs": [
    {
     "data": {
      "text/html": [
       "<div><style>\n",
       ".dataframe > thead > tr,\n",
       ".dataframe > tbody > tr {\n",
       "  text-align: right;\n",
       "  white-space: pre-wrap;\n",
       "}\n",
       "</style>\n",
       "<small>shape: (5, 9)</small><table border=\"1\" class=\"dataframe\"><thead><tr><th>yearID</th><th>lgID</th><th>total_AB</th><th>total_H</th><th>total_2B</th><th>total_3B</th><th>total_HR</th><th>total_TB</th><th>SLG</th></tr><tr><td>i64</td><td>str</td><td>i64</td><td>i64</td><td>i64</td><td>i64</td><td>i64</td><td>i64</td><td>f64</td></tr></thead><tbody><tr><td>1951</td><td>&quot;NL&quot;</td><td>42704</td><td>11088</td><td>1746</td><td>367</td><td>1024</td><td>16640</td><td>0.389659</td></tr><tr><td>2009</td><td>&quot;NL&quot;</td><td>87884</td><td>22741</td><td>4606</td><td>561</td><td>2482</td><td>35915</td><td>0.408664</td></tr><tr><td>1969</td><td>&quot;AL&quot;</td><td>65536</td><td>16120</td><td>2385</td><td>378</td><td>1649</td><td>24208</td><td>0.369385</td></tr><tr><td>1968</td><td>&quot;NL&quot;</td><td>54913</td><td>13351</td><td>1995</td><td>359</td><td>891</td><td>18737</td><td>0.341212</td></tr><tr><td>1981</td><td>&quot;NL&quot;</td><td>43654</td><td>11141</td><td>1881</td><td>354</td><td>719</td><td>15887</td><td>0.36393</td></tr></tbody></table></div>"
      ],
      "text/plain": [
       "shape: (5, 9)\n",
       "┌────────┬──────┬──────────┬─────────┬───┬──────────┬──────────┬──────────┬──────────┐\n",
       "│ yearID ┆ lgID ┆ total_AB ┆ total_H ┆ … ┆ total_3B ┆ total_HR ┆ total_TB ┆ SLG      │\n",
       "│ ---    ┆ ---  ┆ ---      ┆ ---     ┆   ┆ ---      ┆ ---      ┆ ---      ┆ ---      │\n",
       "│ i64    ┆ str  ┆ i64      ┆ i64     ┆   ┆ i64      ┆ i64      ┆ i64      ┆ f64      │\n",
       "╞════════╪══════╪══════════╪═════════╪═══╪══════════╪══════════╪══════════╪══════════╡\n",
       "│ 1951   ┆ NL   ┆ 42704    ┆ 11088   ┆ … ┆ 367      ┆ 1024     ┆ 16640    ┆ 0.389659 │\n",
       "│ 2009   ┆ NL   ┆ 87884    ┆ 22741   ┆ … ┆ 561      ┆ 2482     ┆ 35915    ┆ 0.408664 │\n",
       "│ 1969   ┆ AL   ┆ 65536    ┆ 16120   ┆ … ┆ 378      ┆ 1649     ┆ 24208    ┆ 0.369385 │\n",
       "│ 1968   ┆ NL   ┆ 54913    ┆ 13351   ┆ … ┆ 359      ┆ 891      ┆ 18737    ┆ 0.341212 │\n",
       "│ 1981   ┆ NL   ┆ 43654    ┆ 11141   ┆ … ┆ 354      ┆ 719      ┆ 15887    ┆ 0.36393  │\n",
       "└────────┴──────┴──────────┴─────────┴───┴──────────┴──────────┴──────────┴──────────┘"
      ]
     },
     "execution_count": 5,
     "metadata": {},
     "output_type": "execute_result"
    }
   ],
   "source": [
    "bat = pl.read_csv(DATA_DIR / \"Batting.csv\")\n",
    "\n",
    "bat_modern = bat.filter(pl.col(\"yearID\") >= 1946)\n",
    "\n",
    "bat_group = (\n",
    "    bat_modern\n",
    "    .group_by([\"yearID\", \"lgID\"])\n",
    "    .agg([\n",
    "        pl.col(\"AB\").sum().alias(\"total_AB\"),\n",
    "        pl.col(\"H\").sum().alias(\"total_H\"),\n",
    "        pl.col(\"2B\").sum().alias(\"total_2B\"),\n",
    "        pl.col(\"3B\").sum().alias(\"total_3B\"),\n",
    "        pl.col(\"HR\").sum().alias(\"total_HR\"),\n",
    "    ])\n",
    "    .with_columns([\n",
    "        # total bases = H + 2B + 2*3B + 3*HR\n",
    "        (pl.col(\"total_H\") + pl.col(\"total_2B\") + 2*pl.col(\"total_3B\") + 3*pl.col(\"total_HR\")).alias(\"total_TB\"),\n",
    "    ])\n",
    "    .with_columns([\n",
    "        (pl.col(\"total_TB\") / pl.col(\"total_AB\")).alias(\"SLG\")\n",
    "    ])\n",
    ")\n",
    "\n",
    "bat_group.head()\n"
   ]
  },
  {
   "cell_type": "code",
   "execution_count": null,
   "id": "61796369",
   "metadata": {},
   "outputs": [],
   "source": [
    "# import polars as pl\n",
    "\n",
    "def dh_state_expr():\n",
    "    return (\n",
    "        pl.when(pl.col(\"yearID\") < 1973)\n",
    "          .then(pl.lit(\"No DH (both)\"))\n",
    "          .when((pl.col(\"yearID\").is_between(1973, 2019)) & (pl.col(\"lgID\") == \"AL\"))\n",
    "          .then(pl.lit(\"DH in AL; NL no DH\"))\n",
    "          .when((pl.col(\"yearID\").is_between(1973, 2019)) & (pl.col(\"lgID\") == \"NL\"))\n",
    "          .then(pl.lit(\"NL no DH\"))\n",
    "          .when(pl.col(\"yearID\") == 2020)\n",
    "          .then(pl.lit(\"Universal DH (2020)\"))\n",
    "          .when((pl.col(\"yearID\") == 2021) & (pl.col(\"lgID\") == \"AL\"))\n",
    "          .then(pl.lit(\"DH in AL; NL no DH\"))\n",
    "          .when((pl.col(\"yearID\") == 2021) & (pl.col(\"lgID\") == \"NL\"))\n",
    "          .then(pl.lit(\"NL no DH\"))\n",
    "          .when(pl.col(\"yearID\") >= 2022)\n",
    "          .then(pl.lit(\"Universal DH (2022+)\"))\n",
    "          .otherwise(pl.lit(\"Unknown\"))\n",
    "          .alias(\"DH_state\")\n",
    "    )\n"
   ]
  },
  {
   "cell_type": "code",
   "execution_count": 15,
   "id": "a7180d3b",
   "metadata": {},
   "outputs": [],
   "source": [
    "era_group = era_group.with_columns(dh_state_expr())\n",
    "bat_group = bat_group.with_columns(dh_state_expr())\n",
    "\n",
    "era_group.write_csv(DATA_DIR / \"league_era_by_year.csv\")\n",
    "bat_group.write_csv(DATA_DIR / \"league_slugging_by_year.csv\")\n"
   ]
  },
  {
   "cell_type": "code",
   "execution_count": null,
   "id": "406d916a",
   "metadata": {},
   "outputs": [
    {
     "data": {
      "text/html": [
       "<div><style>\n",
       ".dataframe > thead > tr,\n",
       ".dataframe > tbody > tr {\n",
       "  text-align: right;\n",
       "  white-space: pre-wrap;\n",
       "}\n",
       "</style>\n",
       "<small>shape: (5, 6)</small><table border=\"1\" class=\"dataframe\"><thead><tr><th>yearID</th><th>lgID</th><th>total_R</th><th>total_IPouts</th><th>ERA</th><th>DH_state</th></tr><tr><td>i64</td><td>str</td><td>i64</td><td>i64</td><td>f64</td><td>str</td></tr></thead><tbody><tr><td>1962</td><td>&quot;NL&quot;</td><td>7278</td><td>43470</td><td>4.520497</td><td>&quot;No DH (both)&quot;</td></tr><tr><td>1972</td><td>&quot;AL&quot;</td><td>6441</td><td>49961</td><td>3.480855</td><td>&quot;No DH (both)&quot;</td></tr><tr><td>1955</td><td>&quot;AL&quot;</td><td>5491</td><td>33080</td><td>4.481771</td><td>&quot;No DH (both)&quot;</td></tr><tr><td>1981</td><td>&quot;AL&quot;</td><td>6112</td><td>40379</td><td>4.086877</td><td>&quot;DH in AL; NL no DH&quot;</td></tr><tr><td>1957</td><td>&quot;AL&quot;</td><td>5210</td><td>33380</td><td>4.2142</td><td>&quot;No DH (both)&quot;</td></tr></tbody></table></div>"
      ],
      "text/plain": [
       "shape: (5, 6)\n",
       "┌────────┬──────┬─────────┬──────────────┬──────────┬────────────────────┐\n",
       "│ yearID ┆ lgID ┆ total_R ┆ total_IPouts ┆ ERA      ┆ DH_state           │\n",
       "│ ---    ┆ ---  ┆ ---     ┆ ---          ┆ ---      ┆ ---                │\n",
       "│ i64    ┆ str  ┆ i64     ┆ i64          ┆ f64      ┆ str                │\n",
       "╞════════╪══════╪═════════╪══════════════╪══════════╪════════════════════╡\n",
       "│ 1962   ┆ NL   ┆ 7278    ┆ 43470        ┆ 4.520497 ┆ No DH (both)       │\n",
       "│ 1972   ┆ AL   ┆ 6441    ┆ 49961        ┆ 3.480855 ┆ No DH (both)       │\n",
       "│ 1955   ┆ AL   ┆ 5491    ┆ 33080        ┆ 4.481771 ┆ No DH (both)       │\n",
       "│ 1981   ┆ AL   ┆ 6112    ┆ 40379        ┆ 4.086877 ┆ DH in AL; NL no DH │\n",
       "│ 1957   ┆ AL   ┆ 5210    ┆ 33380        ┆ 4.2142   ┆ No DH (both)       │\n",
       "└────────┴──────┴─────────┴──────────────┴──────────┴────────────────────┘"
      ]
     },
     "execution_count": 16,
     "metadata": {},
     "output_type": "execute_result"
    }
   ],
   "source": [
    "# Check saved ERA file\n",
    "pl.read_csv(DATA_DIR / \"league_era_by_year.csv\").head()\n"
   ]
  },
  {
   "cell_type": "code",
   "execution_count": null,
   "id": "6cda4923",
   "metadata": {},
   "outputs": [
    {
     "data": {
      "text/html": [
       "<div><style>\n",
       ".dataframe > thead > tr,\n",
       ".dataframe > tbody > tr {\n",
       "  text-align: right;\n",
       "  white-space: pre-wrap;\n",
       "}\n",
       "</style>\n",
       "<small>shape: (5, 10)</small><table border=\"1\" class=\"dataframe\"><thead><tr><th>yearID</th><th>lgID</th><th>total_AB</th><th>total_H</th><th>total_2B</th><th>total_3B</th><th>total_HR</th><th>total_TB</th><th>SLG</th><th>DH_state</th></tr><tr><td>i64</td><td>str</td><td>i64</td><td>i64</td><td>i64</td><td>i64</td><td>i64</td><td>i64</td><td>f64</td><td>str</td></tr></thead><tbody><tr><td>1951</td><td>&quot;NL&quot;</td><td>42704</td><td>11088</td><td>1746</td><td>367</td><td>1024</td><td>16640</td><td>0.389659</td><td>&quot;No DH (both)&quot;</td></tr><tr><td>2009</td><td>&quot;NL&quot;</td><td>87884</td><td>22741</td><td>4606</td><td>561</td><td>2482</td><td>35915</td><td>0.408664</td><td>&quot;NL no DH&quot;</td></tr><tr><td>1969</td><td>&quot;AL&quot;</td><td>65536</td><td>16120</td><td>2385</td><td>378</td><td>1649</td><td>24208</td><td>0.369385</td><td>&quot;No DH (both)&quot;</td></tr><tr><td>1968</td><td>&quot;NL&quot;</td><td>54913</td><td>13351</td><td>1995</td><td>359</td><td>891</td><td>18737</td><td>0.341212</td><td>&quot;No DH (both)&quot;</td></tr><tr><td>1981</td><td>&quot;NL&quot;</td><td>43654</td><td>11141</td><td>1881</td><td>354</td><td>719</td><td>15887</td><td>0.36393</td><td>&quot;NL no DH&quot;</td></tr></tbody></table></div>"
      ],
      "text/plain": [
       "shape: (5, 10)\n",
       "┌────────┬──────┬──────────┬─────────┬───┬──────────┬──────────┬──────────┬──────────────┐\n",
       "│ yearID ┆ lgID ┆ total_AB ┆ total_H ┆ … ┆ total_HR ┆ total_TB ┆ SLG      ┆ DH_state     │\n",
       "│ ---    ┆ ---  ┆ ---      ┆ ---     ┆   ┆ ---      ┆ ---      ┆ ---      ┆ ---          │\n",
       "│ i64    ┆ str  ┆ i64      ┆ i64     ┆   ┆ i64      ┆ i64      ┆ f64      ┆ str          │\n",
       "╞════════╪══════╪══════════╪═════════╪═══╪══════════╪══════════╪══════════╪══════════════╡\n",
       "│ 1951   ┆ NL   ┆ 42704    ┆ 11088   ┆ … ┆ 1024     ┆ 16640    ┆ 0.389659 ┆ No DH (both) │\n",
       "│ 2009   ┆ NL   ┆ 87884    ┆ 22741   ┆ … ┆ 2482     ┆ 35915    ┆ 0.408664 ┆ NL no DH     │\n",
       "│ 1969   ┆ AL   ┆ 65536    ┆ 16120   ┆ … ┆ 1649     ┆ 24208    ┆ 0.369385 ┆ No DH (both) │\n",
       "│ 1968   ┆ NL   ┆ 54913    ┆ 13351   ┆ … ┆ 891      ┆ 18737    ┆ 0.341212 ┆ No DH (both) │\n",
       "│ 1981   ┆ NL   ┆ 43654    ┆ 11141   ┆ … ┆ 719      ┆ 15887    ┆ 0.36393  ┆ NL no DH     │\n",
       "└────────┴──────┴──────────┴─────────┴───┴──────────┴──────────┴──────────┴──────────────┘"
      ]
     },
     "execution_count": 17,
     "metadata": {},
     "output_type": "execute_result"
    }
   ],
   "source": [
    "# Check saved Slugging file\n",
    "pl.read_csv(DATA_DIR / \"league_slugging_by_year.csv\").head()\n"
   ]
  }
 ],
 "metadata": {
  "kernelspec": {
   "display_name": "polars",
   "language": "python",
   "name": "python3"
  },
  "language_info": {
   "codemirror_mode": {
    "name": "ipython",
    "version": 3
   },
   "file_extension": ".py",
   "mimetype": "text/x-python",
   "name": "python",
   "nbconvert_exporter": "python",
   "pygments_lexer": "ipython3",
   "version": "3.12.11"
  }
 },
 "nbformat": 4,
 "nbformat_minor": 5
}
